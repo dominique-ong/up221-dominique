{
 "cells": [
  {
   "cell_type": "code",
   "execution_count": 12,
   "id": "f04c8c7e-123a-431a-b1a7-9e83c8bdf0b5",
   "metadata": {},
   "outputs": [],
   "source": [
    "import pandas as pd\n",
    "import geopandas as gpd\n",
    "import zipfile\n",
    "import os\n",
    "import matplotlib.pyplot as plt"
   ]
  },
  {
   "cell_type": "code",
   "execution_count": 13,
   "id": "450a490d-8626-4f86-92aa-6e3f9bf2f362",
   "metadata": {},
   "outputs": [
    {
     "name": "stdout",
     "output_type": "stream",
     "text": [
      "/home/jovyan/up221-dominique\n"
     ]
    }
   ],
   "source": [
    "# Get the current working directory\n",
    "path = os.getcwd()\n",
    "print(path)\n",
    "# Set the current working directory\n",
    "os.chdir('/home/jovyan/up221-dominique')"
   ]
  },
  {
   "cell_type": "code",
   "execution_count": 4,
   "id": "60c6eecd-85db-4d38-8352-3a505a6791d7",
   "metadata": {},
   "outputs": [],
   "source": [
    "# Unzip zipped CSV file\n",
    "with zipfile.ZipFile('/home/jovyan/up221-dominique/data/rso-cpra-workbook.xlsx.csv.zip', 'r') as zip_ref:\n",
    "    zip_ref.extractall('/home/jovyan/up221-dominique/data')"
   ]
  },
  {
   "cell_type": "code",
   "execution_count": 14,
   "id": "dedd2ebd-ceaf-41ce-966d-58b89e426425",
   "metadata": {},
   "outputs": [],
   "source": [
    "# Read and add CSV to notebook\n",
    "rso = pd.read_csv('data/rso cpra workbook.xlsx.csv',header=1)"
   ]
  },
  {
   "cell_type": "code",
   "execution_count": 6,
   "id": "6483d7ea-5747-4a2c-81af-1613ba8778cf",
   "metadata": {
    "tags": []
   },
   "outputs": [
    {
     "name": "stdout",
     "output_type": "stream",
     "text": [
      "<class 'pandas.core.frame.DataFrame'>\n",
      "RangeIndex: 1005754 entries, 0 to 1005753\n",
      "Data columns (total 10 columns):\n",
      " #   Column                  Non-Null Count    Dtype  \n",
      "---  ------                  --------------    -----  \n",
      " 0   APN                     1005754 non-null  int64  \n",
      " 1   RSO Year                1005754 non-null  int64  \n",
      " 2   Address                 1005748 non-null  object \n",
      " 3   City                    1005297 non-null  object \n",
      " 4   Zip                     1005735 non-null  float64\n",
      " 5   RSO Units               1005754 non-null  int64  \n",
      " 6   Prior Council District  1005754 non-null  int64  \n",
      " 7   Council District        1005754 non-null  int64  \n",
      " 8   Land Use Code           1005754 non-null  object \n",
      " 9   Unit Range              1005754 non-null  object \n",
      "dtypes: float64(1), int64(5), object(4)\n",
      "memory usage: 76.7+ MB\n"
     ]
    }
   ],
   "source": [
    "# Dataframe info\n",
    "rso.info()\n",
    "# Data columns - APN (int), RSO Year (int), Address (string), City (string)\n",
    "# Zip (float), RSO Units (int), Prior Council District (int), Council District (int)\n",
    "# Land Use Code (string), Unit Range (string)"
   ]
  },
  {
   "cell_type": "code",
   "execution_count": 7,
   "id": "9d9a767e-0f3d-4ec8-aa76-debbe05bd37e",
   "metadata": {},
   "outputs": [
    {
     "data": {
      "text/html": [
       "<div>\n",
       "<style scoped>\n",
       "    .dataframe tbody tr th:only-of-type {\n",
       "        vertical-align: middle;\n",
       "    }\n",
       "\n",
       "    .dataframe tbody tr th {\n",
       "        vertical-align: top;\n",
       "    }\n",
       "\n",
       "    .dataframe thead th {\n",
       "        text-align: right;\n",
       "    }\n",
       "</style>\n",
       "<table border=\"1\" class=\"dataframe\">\n",
       "  <thead>\n",
       "    <tr style=\"text-align: right;\">\n",
       "      <th></th>\n",
       "      <th>APN</th>\n",
       "      <th>RSO Year</th>\n",
       "      <th>Address</th>\n",
       "      <th>City</th>\n",
       "      <th>Zip</th>\n",
       "      <th>RSO Units</th>\n",
       "      <th>Prior Council District</th>\n",
       "      <th>Council District</th>\n",
       "      <th>Land Use Code</th>\n",
       "      <th>Unit Range</th>\n",
       "    </tr>\n",
       "  </thead>\n",
       "  <tbody>\n",
       "    <tr>\n",
       "      <th>0</th>\n",
       "      <td>5115004006</td>\n",
       "      <td>2016</td>\n",
       "      <td>760 E 41ST PL</td>\n",
       "      <td>LOS ANGELES</td>\n",
       "      <td>90011.0</td>\n",
       "      <td>3</td>\n",
       "      <td>9</td>\n",
       "      <td>9</td>\n",
       "      <td>300</td>\n",
       "      <td>3-4 units</td>\n",
       "    </tr>\n",
       "    <tr>\n",
       "      <th>1</th>\n",
       "      <td>4335008247</td>\n",
       "      <td>2020</td>\n",
       "      <td>100 S DOHENY DR NO 1105</td>\n",
       "      <td>LOS ANGELES</td>\n",
       "      <td>90048.0</td>\n",
       "      <td>1</td>\n",
       "      <td>5</td>\n",
       "      <td>5</td>\n",
       "      <td>010E</td>\n",
       "      <td>1 unit</td>\n",
       "    </tr>\n",
       "    <tr>\n",
       "      <th>2</th>\n",
       "      <td>7347011035</td>\n",
       "      <td>2020</td>\n",
       "      <td>1529 W 227TH ST</td>\n",
       "      <td>LOS ANGELES</td>\n",
       "      <td>90501.0</td>\n",
       "      <td>2</td>\n",
       "      <td>15</td>\n",
       "      <td>15</td>\n",
       "      <td>0201</td>\n",
       "      <td>2 units</td>\n",
       "    </tr>\n",
       "    <tr>\n",
       "      <th>3</th>\n",
       "      <td>4237019021</td>\n",
       "      <td>2021</td>\n",
       "      <td>808 ANGELUS PL</td>\n",
       "      <td>LOS ANGELES</td>\n",
       "      <td>90291.0</td>\n",
       "      <td>2</td>\n",
       "      <td>11</td>\n",
       "      <td>11</td>\n",
       "      <td>200</td>\n",
       "      <td>2 units</td>\n",
       "    </tr>\n",
       "    <tr>\n",
       "      <th>4</th>\n",
       "      <td>4259003026</td>\n",
       "      <td>2022</td>\n",
       "      <td>1611 BROCKTON AVE</td>\n",
       "      <td>LOS ANGELES</td>\n",
       "      <td>90025.0</td>\n",
       "      <td>9</td>\n",
       "      <td>11</td>\n",
       "      <td>11</td>\n",
       "      <td>0500</td>\n",
       "      <td>5-10 units</td>\n",
       "    </tr>\n",
       "  </tbody>\n",
       "</table>\n",
       "</div>"
      ],
      "text/plain": [
       "          APN  RSO Year                  Address         City      Zip  \\\n",
       "0  5115004006      2016           760 E 41ST PL   LOS ANGELES  90011.0   \n",
       "1  4335008247      2020  100 S DOHENY DR NO 1105  LOS ANGELES  90048.0   \n",
       "2  7347011035      2020          1529 W 227TH ST  LOS ANGELES  90501.0   \n",
       "3  4237019021      2021           808 ANGELUS PL  LOS ANGELES  90291.0   \n",
       "4  4259003026      2022        1611 BROCKTON AVE  LOS ANGELES  90025.0   \n",
       "\n",
       "   RSO Units  Prior Council District  Council District Land Use Code  \\\n",
       "0          3                       9                 9           300   \n",
       "1          1                       5                 5          010E   \n",
       "2          2                      15                15          0201   \n",
       "3          2                      11                11           200   \n",
       "4          9                      11                11          0500   \n",
       "\n",
       "   Unit Range  \n",
       "0   3-4 units  \n",
       "1      1 unit  \n",
       "2     2 units  \n",
       "3     2 units  \n",
       "4  5-10 units  "
      ]
     },
     "execution_count": 7,
     "metadata": {},
     "output_type": "execute_result"
    }
   ],
   "source": [
    "# First 5 rows of the dataframe\n",
    "rso.head()"
   ]
  },
  {
   "cell_type": "code",
   "execution_count": 8,
   "id": "c48d5bd4-853d-4c31-9b4c-bcd6f37b6549",
   "metadata": {},
   "outputs": [
    {
     "data": {
      "text/plain": [
       "(1005754, 10)"
      ]
     },
     "execution_count": 8,
     "metadata": {},
     "output_type": "execute_result"
    }
   ],
   "source": [
    "# Number of rows and columns\n",
    "rso.shape"
   ]
  },
  {
   "cell_type": "code",
   "execution_count": 9,
   "id": "ceac8455-89b1-4407-ab82-0eaf7f10731b",
   "metadata": {},
   "outputs": [
    {
     "data": {
      "text/plain": [
       "2022    149799\n",
       "2021    147272\n",
       "2016    144403\n",
       "2020    142210\n",
       "2019    141223\n",
       "2017    140570\n",
       "2018    140277\n",
       "Name: RSO Year, dtype: int64"
      ]
     },
     "execution_count": 9,
     "metadata": {},
     "output_type": "execute_result"
    }
   ],
   "source": [
    "# Count unique values in RSO Year column (how many RSO buildings for each RSO year)\n",
    "rso['RSO Year'].value_counts()"
   ]
  },
  {
   "cell_type": "code",
   "execution_count": 10,
   "id": "ac079349-fc3b-4ceb-b058-a170f0144d1e",
   "metadata": {},
   "outputs": [
    {
     "data": {
      "text/html": [
       "<div>\n",
       "<style scoped>\n",
       "    .dataframe tbody tr th:only-of-type {\n",
       "        vertical-align: middle;\n",
       "    }\n",
       "\n",
       "    .dataframe tbody tr th {\n",
       "        vertical-align: top;\n",
       "    }\n",
       "\n",
       "    .dataframe thead th {\n",
       "        text-align: right;\n",
       "    }\n",
       "</style>\n",
       "<table border=\"1\" class=\"dataframe\">\n",
       "  <thead>\n",
       "    <tr style=\"text-align: right;\">\n",
       "      <th></th>\n",
       "      <th>APN</th>\n",
       "      <th>RSO Year</th>\n",
       "      <th>Address</th>\n",
       "      <th>City</th>\n",
       "      <th>Zip</th>\n",
       "      <th>RSO Units</th>\n",
       "      <th>Council District</th>\n",
       "    </tr>\n",
       "  </thead>\n",
       "  <tbody>\n",
       "    <tr>\n",
       "      <th>0</th>\n",
       "      <td>5115004006</td>\n",
       "      <td>2016</td>\n",
       "      <td>760 E 41ST PL</td>\n",
       "      <td>LOS ANGELES</td>\n",
       "      <td>90011.0</td>\n",
       "      <td>3</td>\n",
       "      <td>9</td>\n",
       "    </tr>\n",
       "    <tr>\n",
       "      <th>1</th>\n",
       "      <td>4335008247</td>\n",
       "      <td>2020</td>\n",
       "      <td>100 S DOHENY DR NO 1105</td>\n",
       "      <td>LOS ANGELES</td>\n",
       "      <td>90048.0</td>\n",
       "      <td>1</td>\n",
       "      <td>5</td>\n",
       "    </tr>\n",
       "    <tr>\n",
       "      <th>2</th>\n",
       "      <td>7347011035</td>\n",
       "      <td>2020</td>\n",
       "      <td>1529 W 227TH ST</td>\n",
       "      <td>LOS ANGELES</td>\n",
       "      <td>90501.0</td>\n",
       "      <td>2</td>\n",
       "      <td>15</td>\n",
       "    </tr>\n",
       "    <tr>\n",
       "      <th>3</th>\n",
       "      <td>4237019021</td>\n",
       "      <td>2021</td>\n",
       "      <td>808 ANGELUS PL</td>\n",
       "      <td>LOS ANGELES</td>\n",
       "      <td>90291.0</td>\n",
       "      <td>2</td>\n",
       "      <td>11</td>\n",
       "    </tr>\n",
       "    <tr>\n",
       "      <th>4</th>\n",
       "      <td>4259003026</td>\n",
       "      <td>2022</td>\n",
       "      <td>1611 BROCKTON AVE</td>\n",
       "      <td>LOS ANGELES</td>\n",
       "      <td>90025.0</td>\n",
       "      <td>9</td>\n",
       "      <td>11</td>\n",
       "    </tr>\n",
       "    <tr>\n",
       "      <th>...</th>\n",
       "      <td>...</td>\n",
       "      <td>...</td>\n",
       "      <td>...</td>\n",
       "      <td>...</td>\n",
       "      <td>...</td>\n",
       "      <td>...</td>\n",
       "      <td>...</td>\n",
       "    </tr>\n",
       "    <tr>\n",
       "      <th>1005749</th>\n",
       "      <td>4251012108</td>\n",
       "      <td>2020</td>\n",
       "      <td>3200 S SEPULVEDA BLVD G14</td>\n",
       "      <td>LOS ANGELES</td>\n",
       "      <td>90034.0</td>\n",
       "      <td>1</td>\n",
       "      <td>5</td>\n",
       "    </tr>\n",
       "    <tr>\n",
       "      <th>1005750</th>\n",
       "      <td>4410022011</td>\n",
       "      <td>2020</td>\n",
       "      <td>373 W CHANNEL RD</td>\n",
       "      <td>LOS ANGELES</td>\n",
       "      <td>90402.0</td>\n",
       "      <td>2</td>\n",
       "      <td>11</td>\n",
       "    </tr>\n",
       "    <tr>\n",
       "      <th>1005751</th>\n",
       "      <td>5080020021</td>\n",
       "      <td>2020</td>\n",
       "      <td>1214 S HOBART BLVD</td>\n",
       "      <td>LOS ANGELES</td>\n",
       "      <td>90006.0</td>\n",
       "      <td>6</td>\n",
       "      <td>10</td>\n",
       "    </tr>\n",
       "    <tr>\n",
       "      <th>1005752</th>\n",
       "      <td>2401044019</td>\n",
       "      <td>2022</td>\n",
       "      <td>7761 VIA CATALINA</td>\n",
       "      <td>LOS ANGELES</td>\n",
       "      <td>91504.0</td>\n",
       "      <td>1</td>\n",
       "      <td>2</td>\n",
       "    </tr>\n",
       "    <tr>\n",
       "      <th>1005753</th>\n",
       "      <td>5037032007</td>\n",
       "      <td>2022</td>\n",
       "      <td>3931 FLOWER DR</td>\n",
       "      <td>LOS ANGELES</td>\n",
       "      <td>90037.0</td>\n",
       "      <td>4</td>\n",
       "      <td>9</td>\n",
       "    </tr>\n",
       "  </tbody>\n",
       "</table>\n",
       "<p>1005754 rows × 7 columns</p>\n",
       "</div>"
      ],
      "text/plain": [
       "                APN  RSO Year                    Address         City  \\\n",
       "0        5115004006      2016             760 E 41ST PL   LOS ANGELES   \n",
       "1        4335008247      2020    100 S DOHENY DR NO 1105  LOS ANGELES   \n",
       "2        7347011035      2020            1529 W 227TH ST  LOS ANGELES   \n",
       "3        4237019021      2021             808 ANGELUS PL  LOS ANGELES   \n",
       "4        4259003026      2022          1611 BROCKTON AVE  LOS ANGELES   \n",
       "...             ...       ...                        ...          ...   \n",
       "1005749  4251012108      2020  3200 S SEPULVEDA BLVD G14  LOS ANGELES   \n",
       "1005750  4410022011      2020           373 W CHANNEL RD  LOS ANGELES   \n",
       "1005751  5080020021      2020         1214 S HOBART BLVD  LOS ANGELES   \n",
       "1005752  2401044019      2022          7761 VIA CATALINA  LOS ANGELES   \n",
       "1005753  5037032007      2022             3931 FLOWER DR  LOS ANGELES   \n",
       "\n",
       "             Zip  RSO Units  Council District  \n",
       "0        90011.0          3                 9  \n",
       "1        90048.0          1                 5  \n",
       "2        90501.0          2                15  \n",
       "3        90291.0          2                11  \n",
       "4        90025.0          9                11  \n",
       "...          ...        ...               ...  \n",
       "1005749  90034.0          1                 5  \n",
       "1005750  90402.0          2                11  \n",
       "1005751  90006.0          6                10  \n",
       "1005752  91504.0          1                 2  \n",
       "1005753  90037.0          4                 9  \n",
       "\n",
       "[1005754 rows x 7 columns]"
      ]
     },
     "execution_count": 10,
     "metadata": {},
     "output_type": "execute_result"
    }
   ],
   "source": [
    "# Create a list of desired column names\n",
    "desired_columns = ['APN','RSO Year','Address','City','Zip','RSO Units','Council District']\n",
    "# Make a copy of a dataframe, subset based on desired columns\n",
    "rso_trimmed = rso[desired_columns].copy()\n",
    "rso_trimmed"
   ]
  },
  {
   "cell_type": "code",
   "execution_count": 15,
   "id": "38ecc2eb-2c28-4095-b191-4b3ae3abfb57",
   "metadata": {},
   "outputs": [
    {
     "data": {
      "text/plain": [
       "<AxesSubplot: >"
      ]
     },
     "execution_count": 15,
     "metadata": {},
     "output_type": "execute_result"
    },
    {
     "data": {
      "image/png": "[encoded data removed]",
      "text/plain": [
       "<Figure size 640x480 with 1 Axes>"
      ]
     },
     "metadata": {},
     "output_type": "display_data"
    }
   ],
   "source": [
    "# Query to filter by single condition\n",
    "# Back ticks for invalid column names\n",
    "rso_trimmed_2022 = rso_trimmed.query(\"`RSO Year` == 2022\")\n",
    "# Count unique values in Council District column (how many RSO buildings in 2022 for each council district)\n",
    "# Save as a variable\n",
    "cd_count_2022 = rso_trimmed_2022['Council District'].value_counts()\n",
    "# Convert series into a dataframe\n",
    "cd_count_2022 = cd_count_2022.reset_index()\n",
    "# Create a bar plot\n",
    "cd_count_2022.plot(kind = 'bar')"
   ]
  },
  {
   "cell_type": "code",
   "execution_count": null,
   "id": "954706e4-dae3-4c9f-a43e-6cb1a5ee32d7",
   "metadata": {},
   "outputs": [],
   "source": []
  },
  {
   "cell_type": "code",
   "execution_count": null,
   "id": "14cb97e7-f4b4-4fd9-b3c0-1dfdd785915a",
   "metadata": {},
   "outputs": [],
   "source": []
  }
 ],
 "metadata": {
  "kernelspec": {
   "display_name": "Python 3 (ipykernel)",
   "language": "python",
   "name": "python3"
  },
  "language_info": {
   "codemirror_mode": {
    "name": "ipython",
    "version": 3
   },
   "file_extension": ".py",
   "mimetype": "text/x-python",
   "name": "python",
   "nbconvert_exporter": "python",
   "pygments_lexer": "ipython3",
   "version": "3.10.8"
  }
 },
 "nbformat": 4,
 "nbformat_minor": 5
}
